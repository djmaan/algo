{
 "cells": [
  {
   "cell_type": "code",
   "execution_count": null,
   "metadata": {},
   "outputs": [],
   "source": [
    "# Same BST's\n",
    "# o(n^2) time |  o(n^2) space\n",
    "def sameBsts(arrayOne, arrayTwo):\n",
    "    if len(arrayOne) !=  len(arrayTwo):\n",
    "        return False\n",
    "    \n",
    "    if len(arrayOne) == 0  and len(arrayTwo) == 0:\n",
    "        return True\n",
    "    \n",
    "    if arrayOne[0] != arrayTwo[0]:\n",
    "        return False\n",
    "    \n",
    "    leftOne = getSmaller(arrayOne)\n",
    "    leftTwo = getSmaller(arrayTwo)\n",
    "    righOne = getBiggerOrEqual(arrayOne)\n",
    "    rightTwo = getBiggerOrEqual(arrayTwo)\n",
    "    \n",
    "    return sameBsts(leftOne, leftTwo) and sameBsts(rightOne, rightTwo)\n",
    "\n",
    "def getSmaller(array):\n",
    "    smaller = []\n",
    "    for i in range(1, len(array)):\n",
    "        if array[i] < array[0]:\n",
    "            smaller.append(array[i])\n",
    "    return smaller\n",
    "\n",
    "def getBiggerOrEqual(array):\n",
    "    biggerOrEqual = []\n",
    "    for i in range(1, len(array)):\n",
    "        if array[i] >= array[0]:\n",
    "            biggerOrEqual.append(array[i])\n",
    "    return biggerOrEqual"
   ]
  }
 ],
 "metadata": {
  "kernelspec": {
   "display_name": "Python 3",
   "language": "python",
   "name": "python3"
  },
  "language_info": {
   "codemirror_mode": {
    "name": "ipython",
    "version": 3
   },
   "file_extension": ".py",
   "mimetype": "text/x-python",
   "name": "python",
   "nbconvert_exporter": "python",
   "pygments_lexer": "ipython3",
   "version": "3.7.6"
  }
 },
 "nbformat": 4,
 "nbformat_minor": 4
}
