{
 "cells": [
  {
   "cell_type": "code",
   "execution_count": null,
   "metadata": {},
   "outputs": [],
   "source": [
    "# Suffix Trie Construction\n",
    "class SuffixTrie:\n",
    "    def __init__(self, string):\n",
    "        self.root = {}\n",
    "        self.endSymbol = \"*\"\n",
    "        self.populateSuffixxTrieFrom(string)\n",
    "    # o(n^2) time | o(n^2) space\n",
    "    def populateSuffixxTrieFrom(self, string):\n",
    "        for i in range(len(string)):\n",
    "            self.insertSubstringStartingAt(i, string)\n",
    "    \n",
    "    def insertSubstringStartingAt(self, i, string):\n",
    "        node = self.root\n",
    "        for j in range(i, len(string)):\n",
    "            letter = string[j]\n",
    "            if letter not in node:\n",
    "                node[letter] = {}\n",
    "            node = node[letter]\n",
    "        node[self.endSymbol] = True\n",
    "    # o(m) time | o(1) space    \n",
    "    def contains(self, string):\n",
    "        node = self.root\n",
    "        for letter in string:\n",
    "            if letter not in node:\n",
    "                return False\n",
    "            node = node[letter]\n",
    "        return self.endSymbol in node\n",
    "        "
   ]
  }
 ],
 "metadata": {
  "kernelspec": {
   "display_name": "Python 3",
   "language": "python",
   "name": "python3"
  },
  "language_info": {
   "codemirror_mode": {
    "name": "ipython",
    "version": 3
   },
   "file_extension": ".py",
   "mimetype": "text/x-python",
   "name": "python",
   "nbconvert_exporter": "python",
   "pygments_lexer": "ipython3",
   "version": "3.7.6"
  }
 },
 "nbformat": 4,
 "nbformat_minor": 4
}
