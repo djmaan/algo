{
 "cells": [
  {
   "cell_type": "code",
   "execution_count": null,
   "metadata": {},
   "outputs": [],
   "source": [
    "# Disk Stacking\n",
    "# o(n^2) time | o(n) space\n",
    "def diskStacking(disks):\n",
    "    disks.sort(key = lambda disk: disk[2])\n",
    "    heights = [disks[2] for disk in disks]\n",
    "    sequences = [None for disk in disks]\n",
    "    maxHeightIdx = 0\n",
    "    for i in range(1, len(disks)):\n",
    "        currentDisk = disks[i]\n",
    "        for j in range(0, i):\n",
    "            otherDisk = disks[j]\n",
    "            if areValidDimensions(otherDisk, currentDisk):\n",
    "                if heights[i] <= currentDisk[2] + heights[j]:\n",
    "                    heights[i] = currentDisk[2] + heights[j]\n",
    "                    sequences[i] = j\n",
    "        if heights[i] >= heights[maxHeightIdx]:\n",
    "            maxHeightIdx = i\n",
    "    return buildSequence(disks, sequences, maxHeightIdx)\n",
    "\n",
    "def areValidDimensions(o, c):\n",
    "    return o[0] < c[0] and o[1] < c[1] and o[2] < c[2]\n",
    "\n",
    "def buildSequence(array, sequences, currentIdx):\n",
    "    sequence = []\n",
    "    while currentIdx is not None:\n",
    "        sequence.append(array[currentIdx])\n",
    "        currentIdx = sequences[currentIdx]\n",
    "    return list(reversed(sequence))"
   ]
  }
 ],
 "metadata": {
  "kernelspec": {
   "display_name": "Python 3",
   "language": "python",
   "name": "python3"
  },
  "language_info": {
   "codemirror_mode": {
    "name": "ipython",
    "version": 3
   },
   "file_extension": ".py",
   "mimetype": "text/x-python",
   "name": "python",
   "nbconvert_exporter": "python",
   "pygments_lexer": "ipython3",
   "version": "3.7.6"
  }
 },
 "nbformat": 4,
 "nbformat_minor": 4
}
