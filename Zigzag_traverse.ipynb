{
 "cells": [
  {
   "cell_type": "code",
   "execution_count": null,
   "metadata": {},
   "outputs": [],
   "source": [
    "# Zigzag Traverse\n",
    "# o(n) time | o(n) space\n",
    "def ZigzagTraverse(array):\n",
    "    height = len(array) - 1\n",
    "    width = len(array[0]) - 1\n",
    "    result = []\n",
    "    row, col = 0, 0\n",
    "    goingDown = True\n",
    "    while not isOutOfBounds(row, col, height, width):\n",
    "        result.append(array[row][col])\n",
    "        if goingDown:\n",
    "            if col == 0 or row == height:\n",
    "                goingDown = False\n",
    "                if row == height:\n",
    "                    col += 1\n",
    "                else:\n",
    "                    row += 1\n",
    "            else:\n",
    "                row += 1\n",
    "                col -= 1\n",
    "        else:\n",
    "            if row == 0 or col == width:\n",
    "                goingDown = True\n",
    "                if col == width:\n",
    "                    row += 1\n",
    "                else:\n",
    "                    col += 1\n",
    "            else:\n",
    "                row -= 1\n",
    "                col += 1\n",
    "    return result\n",
    "\n",
    "def isOutOfBounds(row, col, height, width):\n",
    "    return row < 0 or row > height or col < 0 or col > width"
   ]
  }
 ],
 "metadata": {
  "kernelspec": {
   "display_name": "Python 3",
   "language": "python",
   "name": "python3"
  },
  "language_info": {
   "codemirror_mode": {
    "name": "ipython",
    "version": 3
   },
   "file_extension": ".py",
   "mimetype": "text/x-python",
   "name": "python",
   "nbconvert_exporter": "python",
   "pygments_lexer": "ipython3",
   "version": "3.7.6"
  }
 },
 "nbformat": 4,
 "nbformat_minor": 4
}
