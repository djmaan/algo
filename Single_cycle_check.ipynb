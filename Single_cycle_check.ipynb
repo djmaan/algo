{
 "cells": [
  {
   "cell_type": "code",
   "execution_count": 3,
   "metadata": {},
   "outputs": [
    {
     "data": {
      "text/plain": [
       "False"
      ]
     },
     "execution_count": 3,
     "metadata": {},
     "output_type": "execute_result"
    }
   ],
   "source": [
    "# Single Cycle Check\n",
    "# o(n) time | o(1) space\n",
    "def hasSingleCycle(array):\n",
    "    numElementVisited = 0\n",
    "    currentIdx = 0\n",
    "    while numElementVisited < len(array):\n",
    "        if numElementVisited > 0 and currentIdx == 0:\n",
    "            return False\n",
    "        numElementVisited += 1\n",
    "        currentIdx = getNextIdx(currentIdx, array)\n",
    "    return currentIdx == 0\n",
    "\n",
    "def getNextIdx(currentIdx, array):\n",
    "    jump = array[currentIdx]\n",
    "    nextIdx = (currentIdx + jump) % len(array)\n",
    "    return nextIdx if nextIdx >= 0 else nextIdx + len(array)\n",
    "\n",
    "hasSingleCycle([2, 3, 1, -4, -4])"
   ]
  },
  {
   "cell_type": "code",
   "execution_count": null,
   "metadata": {},
   "outputs": [],
   "source": []
  }
 ],
 "metadata": {
  "kernelspec": {
   "display_name": "Python 3",
   "language": "python",
   "name": "python3"
  },
  "language_info": {
   "codemirror_mode": {
    "name": "ipython",
    "version": 3
   },
   "file_extension": ".py",
   "mimetype": "text/x-python",
   "name": "python",
   "nbconvert_exporter": "python",
   "pygments_lexer": "ipython3",
   "version": "3.7.6"
  }
 },
 "nbformat": 4,
 "nbformat_minor": 4
}
