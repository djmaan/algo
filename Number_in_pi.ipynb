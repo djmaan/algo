{
 "cells": [
  {
   "cell_type": "code",
   "execution_count": null,
   "metadata": {},
   "outputs": [],
   "source": [
    "# Number In Pi\n",
    "# o(n^3 + m) time | o(n + m) space\n",
    "def numberInPi(pi, numbers):\n",
    "    numberTable = {number: True for number in numbers}\n",
    "    minSpaces = getMinSpaces(pr, numberTable , {}, 0)\n",
    "    return - 1 if minSpaces == float(\"inf\") else minSpaces\n",
    "\n",
    "def getMinSpaces(pi, numberTable, cache, idx):\n",
    "    if idx == len(pi):\n",
    "        return - 1\n",
    "    if idx in cache:\n",
    "        return cache[idx]\n",
    "    minSpaces = float(\"inf\")\n",
    "    for i in range(idx, len(pi)):\n",
    "        prefix = pi[idx:i + 1]\n",
    "        if prefix in numberTable:\n",
    "            minSpacesInSuffix = getMinSpaces(pi, numberTable, cache, i + 1)\n",
    "            minSpaces = min(minSpaces, minSpacesInSuffix + 1)\n",
    "    cache[idx] = minSpaces\n",
    "    return cache[idx]\n"
   ]
  }
 ],
 "metadata": {
  "kernelspec": {
   "display_name": "Python 3",
   "language": "python",
   "name": "python3"
  },
  "language_info": {
   "codemirror_mode": {
    "name": "ipython",
    "version": 3
   },
   "file_extension": ".py",
   "mimetype": "text/x-python",
   "name": "python",
   "nbconvert_exporter": "python",
   "pygments_lexer": "ipython3",
   "version": "3.7.6"
  }
 },
 "nbformat": 4,
 "nbformat_minor": 4
}
