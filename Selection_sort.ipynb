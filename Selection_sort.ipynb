{
 "cells": [
  {
   "cell_type": "code",
   "execution_count": null,
   "metadata": {},
   "outputs": [],
   "source": [
    "# Selection sort\n",
    "# o(N2) time | o(1) space\n",
    "\n",
    "def selectionSort(array):\n",
    "    currentIdx = 0\n",
    "    while currentIdx < len(array) - 1:\n",
    "        smallestIdx = currentIdx\n",
    "        for i in range(currentIdx + 1, len(array)):\n",
    "            if array[smallestIdx] > array[i]:\n",
    "                smallestIdx = i\n",
    "        swap(currentIdx, smallestIdx, array)\n",
    "        currentIdx += 1    \n",
    "    return array\n",
    "\n",
    "def swap(i, j, array):\n",
    "    array[i], array[j] = array[j, array[i]\n"
   ]
  }
 ],
 "metadata": {
  "kernelspec": {
   "display_name": "Python 3",
   "language": "python",
   "name": "python3"
  },
  "language_info": {
   "codemirror_mode": {
    "name": "ipython",
    "version": 3
   },
   "file_extension": ".py",
   "mimetype": "text/x-python",
   "name": "python",
   "nbconvert_exporter": "python",
   "pygments_lexer": "ipython3",
   "version": "3.7.6"
  }
 },
 "nbformat": 4,
 "nbformat_minor": 4
}
