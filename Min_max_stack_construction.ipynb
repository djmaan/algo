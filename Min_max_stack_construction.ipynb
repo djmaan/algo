{
 "cells": [
  {
   "cell_type": "code",
   "execution_count": 12,
   "metadata": {},
   "outputs": [
    {
     "name": "stdout",
     "output_type": "stream",
     "text": [
      "[3]\n",
      "[3, 5]\n",
      "[3, 5, 2]\n",
      "[3, 5, 2, 1]\n"
     ]
    },
    {
     "data": {
      "text/plain": [
       "1"
      ]
     },
     "execution_count": 12,
     "metadata": {},
     "output_type": "execute_result"
    }
   ],
   "source": [
    "# Min Max Stack Construction\n",
    "# o(1) time | o(1) space\n",
    "class MinMaxStack:\n",
    "    def __init__(self):\n",
    "        self.minMaxStack = []\n",
    "        self.stack = []\n",
    "       \n",
    "    def peek(self):\n",
    "        return self.stack[len(self.stack) - 1]\n",
    "    \n",
    "    def pop(self):\n",
    "        self.minMaxStack.pop()\n",
    "        return self.stack.pop()\n",
    "    \n",
    "    def push(self, number):\n",
    "        newMinMax = {\"min\": number, \"max\": number}\n",
    "        if len(self.minMaxStack):\n",
    "            lastMinMax = self.minMaxStack[len(self.minMaxStack) - 1]\n",
    "            newMinMax[\"min\"] = min(lastMinMax[\"min\"], number)\n",
    "            newMinMax[\"max\"] = max(lastMinMax[\"max\"], number)\n",
    "        self.minMaxStack.append(newMinMax)\n",
    "        self.stack.append(number)\n",
    "        print(self.stack)\n",
    "        \n",
    "    def getMin(self):\n",
    "        return self.minMaxStack[len(self.minMaxStack) - 1][\"min\"]\n",
    "    \n",
    "    def getMax(self):\n",
    "        return self.minMaxStack[len(self.minMaxStack) - 1][\"max\"]\n",
    "  \n",
    "\n",
    "stack = MinMaxStack()\n",
    "stack.push(3)\n",
    "stack.push(5)\n",
    "stack.getMin()\n",
    "stack.push(2) \n",
    "stack.push(1) \n",
    "stack.pop()"
   ]
  },
  {
   "cell_type": "code",
   "execution_count": null,
   "metadata": {},
   "outputs": [],
   "source": []
  }
 ],
 "metadata": {
  "kernelspec": {
   "display_name": "Python 3",
   "language": "python",
   "name": "python3"
  },
  "language_info": {
   "codemirror_mode": {
    "name": "ipython",
    "version": 3
   },
   "file_extension": ".py",
   "mimetype": "text/x-python",
   "name": "python",
   "nbconvert_exporter": "python",
   "pygments_lexer": "ipython3",
   "version": "3.7.6"
  }
 },
 "nbformat": 4,
 "nbformat_minor": 4
}
