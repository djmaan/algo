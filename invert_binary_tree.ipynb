{
 "cells": [
  {
   "cell_type": "code",
   "execution_count": null,
   "metadata": {},
   "outputs": [],
   "source": [
    "# Invert Binary Tree\n",
    "#o(n) time | o(n)space\n",
    "\n",
    "def invertBinaryTree(tree):\n",
    "    queue = [tree]\n",
    "    while len(queue):\n",
    "        current = queue.pop(0)\n",
    "        if current is None:\n",
    "            continue\n",
    "        swapLeftANDright(current)\n",
    "        queue.append(current.left)\n",
    "        queue.append(current.right)\n",
    "        \n",
    "def swapLeftANDright(tree):\n",
    "    tree.left, tree.right = tree.right, tree.left"
   ]
  },
  {
   "cell_type": "code",
   "execution_count": null,
   "metadata": {},
   "outputs": [],
   "source": [
    "# o(n) time | o(d) space\n",
    "def invertedBinaryTree(tree):\n",
    "    if tree is None:\n",
    "        return\n",
    "    swapLeftANDRight(tree)\n",
    "    invertedBinaryTree(tree.left)\n",
    "    invertedBinaryTree(tree.right)\n",
    "    \n",
    "def swapLeftANDright(tree):\n",
    "    tree.left, tree.right = tree.right, tree.left"
   ]
  }
 ],
 "metadata": {
  "kernelspec": {
   "display_name": "Python 3",
   "language": "python",
   "name": "python3"
  },
  "language_info": {
   "codemirror_mode": {
    "name": "ipython",
    "version": 3
   },
   "file_extension": ".py",
   "mimetype": "text/x-python",
   "name": "python",
   "nbconvert_exporter": "python",
   "pygments_lexer": "ipython3",
   "version": "3.7.6"
  }
 },
 "nbformat": 4,
 "nbformat_minor": 4
}
