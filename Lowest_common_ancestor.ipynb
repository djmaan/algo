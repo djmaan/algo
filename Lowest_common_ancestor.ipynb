{
 "cells": [
  {
   "cell_type": "code",
   "execution_count": 7,
   "metadata": {},
   "outputs": [
    {
     "name": "stdout",
     "output_type": "stream",
     "text": [
      "2\n",
      "1\n",
      "1\n",
      "2\n"
     ]
    }
   ],
   "source": [
    "# Lowest Common Ancestor\n",
    "\n",
    "class Node:\n",
    "    def __init__(self, key):\n",
    "        self.key = key\n",
    "        self.left = None\n",
    "        self.right = None\n",
    "        \n",
    "def findPath(root, path, k):\n",
    "    if root is None:\n",
    "        return False\n",
    "    \n",
    "    path.append(root.key)\n",
    "    \n",
    "    if root.key == k:\n",
    "        return True\n",
    "    if ((root.left != None and findPath(root.left, path, k)) or (root.right != None and findPath(root.right, path, k))):\n",
    "        return True\n",
    "    path.pop()\n",
    "    return False\n",
    "\n",
    "def findLCA(root, n1, n2):\n",
    "    path1 = []\n",
    "    path2 = []\n",
    "    \n",
    "    if not findPath(root, path1, n1) or not findPath(root, path2, n2):\n",
    "        return -1\n",
    "    i = 0\n",
    "    while (i < len(path1) and i < len(path2)):\n",
    "        if path1[i] != path2[i]:\n",
    "            break\n",
    "        i += 1\n",
    "    return path1[i -1]\n",
    "\n",
    "root = Node(1)\n",
    "root.left = Node(2)\n",
    "root.right = Node(3)\n",
    "root.left.left = Node(4)\n",
    "root.left.right = Node(5)\n",
    "root.right.left = Node(6)\n",
    "root.right.right = Node(7)\n",
    " \n",
    "print (findLCA(root, 4, 5,))\n",
    "print (findLCA(root, 4, 6))\n",
    "print (findLCA(root,3,4))\n",
    "print (findLCA(root,2, 4))"
   ]
  },
  {
   "cell_type": "code",
   "execution_count": null,
   "metadata": {},
   "outputs": [],
   "source": []
  }
 ],
 "metadata": {
  "kernelspec": {
   "display_name": "Python 3",
   "language": "python",
   "name": "python3"
  },
  "language_info": {
   "codemirror_mode": {
    "name": "ipython",
    "version": 3
   },
   "file_extension": ".py",
   "mimetype": "text/x-python",
   "name": "python",
   "nbconvert_exporter": "python",
   "pygments_lexer": "ipython3",
   "version": "3.7.6"
  }
 },
 "nbformat": 4,
 "nbformat_minor": 4
}
