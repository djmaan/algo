{
 "cells": [
  {
   "cell_type": "code",
   "execution_count": null,
   "metadata": {},
   "outputs": [],
   "source": [
    "# Longest Common Subsequence\n",
    "# o(nm*min(n, m)) time, space\n",
    "def LongestCommonSubsequence(str1, str2):\n",
    "    lcs = [[[] for x in range(len(str1) + 1)] for y in range(len(str2)+ 1)]\n",
    "    for i in range(1, len(str2) + 1):\n",
    "        for j in range(1, len(str1) + 1):\n",
    "            if str2[i - 1] == str1[j - 1]:\n",
    "                lcs[i][j] = lcs[i - 1][j - 1] + [str[i - 1]]\n",
    "            else:\n",
    "                lcs[i][j] = max(lcs[i - 1][j], lcs[i][j - 1], key = len)\n",
    "    return lcs[-1][-1]"
   ]
  }
 ],
 "metadata": {
  "kernelspec": {
   "display_name": "Python 3",
   "language": "python",
   "name": "python3"
  },
  "language_info": {
   "codemirror_mode": {
    "name": "ipython",
    "version": 3
   },
   "file_extension": ".py",
   "mimetype": "text/x-python",
   "name": "python",
   "nbconvert_exporter": "python",
   "pygments_lexer": "ipython3",
   "version": "3.7.6"
  }
 },
 "nbformat": 4,
 "nbformat_minor": 4
}
