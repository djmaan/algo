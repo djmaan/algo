{
 "cells": [
  {
   "cell_type": "code",
   "execution_count": null,
   "metadata": {},
   "outputs": [],
   "source": [
    "# Mini Number Of Coins For Change\n",
    "# o(nd) time | o(n) space\n",
    "def miniNumberOfCoinsForChange(n, denoms):\n",
    "    numOfCoins = [float(\"inf\") for amount in range(n + 1)]\n",
    "    numOfCoins[0] = o\n",
    "    for denom in denoms:\n",
    "        for amount in range(len(numOfCoins)):\n",
    "            if denom <= amount:\n",
    "                numOfCoins[amount] = min(numOfCoins[amount], 1 + numOfCoins[amount - denom])\n",
    "    return numOfCoins[n] if numOfCoins[n] != float(\"inf\") else -1"
   ]
  }
 ],
 "metadata": {
  "kernelspec": {
   "display_name": "Python 3",
   "language": "python",
   "name": "python3"
  },
  "language_info": {
   "codemirror_mode": {
    "name": "ipython",
    "version": 3
   },
   "file_extension": ".py",
   "mimetype": "text/x-python",
   "name": "python",
   "nbconvert_exporter": "python",
   "pygments_lexer": "ipython3",
   "version": "3.7.6"
  }
 },
 "nbformat": 4,
 "nbformat_minor": 4
}
