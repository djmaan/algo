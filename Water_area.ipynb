{
 "cells": [
  {
   "cell_type": "code",
   "execution_count": null,
   "metadata": {},
   "outputs": [],
   "source": [
    "# water Area\n",
    "# o(n) time | o(n) space\n",
    "def waterArea(heights):\n",
    "    maxes = [0 for i in heights]\n",
    "    leftMax = 0\n",
    "    for i in range(len(heights)):\n",
    "        height = heights[i]\n",
    "        maxes[i] = leftMax\n",
    "        leftMaxMax = max(leftMax, height)\n",
    "    rightMax = 0\n",
    "    for i in reversed(range(len(height))):\n",
    "        height = height[i]\n",
    "        minHeight = min(rightMax, maxes[i])\n",
    "        if height < minHeight:\n",
    "            maxes[i] = minHeight - height\n",
    "        else:\n",
    "            maxes[i] = 0\n",
    "        rightMax = max(rightMax, height)\n",
    "    return\n",
    "        "
   ]
  }
 ],
 "metadata": {
  "kernelspec": {
   "display_name": "Python 3",
   "language": "python",
   "name": "python3"
  },
  "language_info": {
   "codemirror_mode": {
    "name": "ipython",
    "version": 3
   },
   "file_extension": ".py",
   "mimetype": "text/x-python",
   "name": "python",
   "nbconvert_exporter": "python",
   "pygments_lexer": "ipython3",
   "version": "3.7.6"
  }
 },
 "nbformat": 4,
 "nbformat_minor": 4
}
