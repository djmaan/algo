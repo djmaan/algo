{
 "cells": [
  {
   "cell_type": "code",
   "execution_count": null,
   "metadata": {},
   "outputs": [],
   "source": [
    "# Subarray Sort\n",
    "# o(n) time | o(1) space\n",
    "def subarraySort(array):\n",
    "    minOutOfOrder = float(\"inf\")\n",
    "    maxOutOfOrder = float(-\"inf\")\n",
    "    for i in range(len(array)):\n",
    "        num = array[i]\n",
    "        if isOutOfOrder(i, num, array):\n",
    "            minOutOfOrder = min(minOutOfOrder, num)\n",
    "            maxOutOfOrder = max(maxOutOfOrder, num)\n",
    "    if minOutOfOrder = float(\"inf\"):\n",
    "        return [-1, -1]\n",
    "    subarrayLeftIdx = 0\n",
    "    while minOutOfOrder >= array[subarrayLeftIdx]:\n",
    "        subarrayLeftIdx += 1\n",
    "    subarrayRightIdx = len(array) - 1\n",
    "    while maxOutOfOrder <= array[subarrayRightIdx]:\n",
    "        subarrayRightIdx -= 1\n",
    "    return [subarrayLeftIdx, subarrayRightIdx]\n",
    "\n",
    "def isOutOfOrder(i, num, array):\n",
    "    if i == 0:\n",
    "        return num > array[i + 1]\n",
    "    if == len(array) - 1:\n",
    "        return num < array[i - 1]\n",
    "    return num > array[i + 1] or num < array[i - 1]\n",
    "            "
   ]
  }
 ],
 "metadata": {
  "kernelspec": {
   "display_name": "Python 3",
   "language": "python",
   "name": "python3"
  },
  "language_info": {
   "codemirror_mode": {
    "name": "ipython",
    "version": 3
   },
   "file_extension": ".py",
   "mimetype": "text/x-python",
   "name": "python",
   "nbconvert_exporter": "python",
   "pygments_lexer": "ipython3",
   "version": "3.7.6"
  }
 },
 "nbformat": 4,
 "nbformat_minor": 4
}
