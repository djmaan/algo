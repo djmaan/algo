{
 "cells": [
  {
   "cell_type": "code",
   "execution_count": 1,
   "metadata": {},
   "outputs": [
    {
     "name": "stdout",
     "output_type": "stream",
     "text": [
      "Linked list before modification:\n",
      "1 2 3 4 5 \n",
      "Linked list after modification:\n",
      "1 2 3 5 "
     ]
    }
   ],
   "source": [
    "# Remove Nth Node From End\n",
    "class Node:\n",
    "    def __init__(self, data):\n",
    "        self.data = data\n",
    "        self.next = None\n",
    "        \n",
    "class LinkedList:\n",
    "    def __init__(self):\n",
    "        self.head = None\n",
    "        \n",
    "    def create(self, x):\n",
    "        new_node = Node(x)\n",
    "        \n",
    "        if self.head is None:\n",
    "            self.head = new_node\n",
    "            return\n",
    "        \n",
    "        last = self.head\n",
    "        while last.next:\n",
    "            last = last.next\n",
    "        last.next = new_node\n",
    "    \n",
    "    def display(self):\n",
    "        temp = self.head\n",
    "        \n",
    "        while temp:\n",
    "            print(temp.data, end = \" \")\n",
    "            temp = temp.next\n",
    "            \n",
    "def removeNthFromEnd(head, k): \n",
    "    first = head \n",
    "    second = head \n",
    "    count = 1\n",
    "    while count <= k: \n",
    "        second = second.next\n",
    "        count += 1\n",
    "    if second is None: \n",
    "        head.value = head.next.value \n",
    "        head.next = head.next.next\n",
    "        return\n",
    "    while second.next is not None: \n",
    "        first = first.next\n",
    "        second = second.next\n",
    "    first.next = first.next.next\n",
    "    \n",
    "val = [1, 2, 3, 4, 5] \n",
    "k = 2\n",
    "ll = LinkedList() \n",
    "for i in val: \n",
    "    ll.create(i) \n",
    "  \n",
    "print(\"Linked list before modification:\"); \n",
    "ll.display() \n",
    "  \n",
    "removeNthFromEnd(ll.head, k) \n",
    "  \n",
    "print(\"\\nLinked list after modification:\"); \n",
    "ll.display() \n",
    "  "
   ]
  },
  {
   "cell_type": "code",
   "execution_count": null,
   "metadata": {},
   "outputs": [],
   "source": []
  }
 ],
 "metadata": {
  "kernelspec": {
   "display_name": "Python 3",
   "language": "python",
   "name": "python3"
  },
  "language_info": {
   "codemirror_mode": {
    "name": "ipython",
    "version": 3
   },
   "file_extension": ".py",
   "mimetype": "text/x-python",
   "name": "python",
   "nbconvert_exporter": "python",
   "pygments_lexer": "ipython3",
   "version": "3.7.6"
  }
 },
 "nbformat": 4,
 "nbformat_minor": 4
}
