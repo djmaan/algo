{
 "cells": [
  {
   "cell_type": "code",
   "execution_count": null,
   "metadata": {},
   "outputs": [],
   "source": [
    "# River Sizes\n",
    "# o(wh) time | o(wh) space\n",
    "def riverSizes(matrix):\n",
    "    sizes = []\n",
    "    visted = [[False for value in row ] for row in matrix]\n",
    "    for i in range (len(matrix)):\n",
    "        for j in range (len(matrix[i])):\n",
    "            if visted[i][j]:\n",
    "                continue\n",
    "            traverseNode(i ,j, matrix, visited, sizes)\n",
    "    return sizes\n",
    "\n",
    "def traverseNode(i, j, matrix, visited, sizes):\n",
    "    currentRiverSize = 0\n",
    "    nodesToExplore = [[i, j]]\n",
    "    while len(nodesToExplore):\n",
    "        currentNode = nodesToExplore.pop()\n",
    "        i = currentNode[0]\n",
    "        j = currentNode[1]\n",
    "        if visited[i][j]:\n",
    "            continue\n",
    "        visited[i][j] = True\n",
    "        if matrix[i][j] == 0:\n",
    "            continue\n",
    "        currentRiverSize += 1\n",
    "        unvisitedNeighbors = getUnvisitedNeighbors(i, j, matrix, visited)\n",
    "        for neighbor in unvisitedNeighbors:\n",
    "            nodesToExplore.append(neighbor)\n",
    "    if currentRiverSize > 0:\n",
    "        sizes.append(currentRiverSize)\n",
    "\n",
    "def getUnvisitedNeighbors(i, j, matrix, visited):\n",
    "    unvisitedNeighbors = []\n",
    "    if i > 0 and not visited[i - 1][j]:\n",
    "        unvisitedNeighbors.append([i - 1, j])\n",
    "    if i < len(matrix) - 1 and not visited[i + 1][j]:\n",
    "        unvisitedNeighbors.append([i + 1,j])\n",
    "    if j > 0 and not visited[i][j - 1]:\n",
    "        unvisitedNeighbors.append([i, j - 1])\n",
    "    if j < len(matrix[0]) - 1 and not visited[i][j + 1]:\n",
    "        unvisitedNeighbors.append([i, j + 1])\n",
    "    return unvisitedNeighbors\n"
   ]
  }
 ],
 "metadata": {
  "kernelspec": {
   "display_name": "Python 3",
   "language": "python",
   "name": "python3"
  },
  "language_info": {
   "codemirror_mode": {
    "name": "ipython",
    "version": 3
   },
   "file_extension": ".py",
   "mimetype": "text/x-python",
   "name": "python",
   "nbconvert_exporter": "python",
   "pygments_lexer": "ipython3",
   "version": "3.7.6"
  }
 },
 "nbformat": 4,
 "nbformat_minor": 4
}
