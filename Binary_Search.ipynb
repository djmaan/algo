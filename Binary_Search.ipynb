{
 "cells": [
  {
   "cell_type": "code",
   "execution_count": 1,
   "metadata": {},
   "outputs": [
    {
     "data": {
      "text/plain": [
       "3"
      ]
     },
     "execution_count": 1,
     "metadata": {},
     "output_type": "execute_result"
    }
   ],
   "source": [
    "# Binary search\n",
    "# o(Log(n)) time | o(Log(n)) space\n",
    "\n",
    "def binarySearch(array, target):\n",
    "    return binarySearchHelper(array, target, 0, len(array) - 1)\n",
    "\n",
    "def binarySearchHelper(array, target, left, right):\n",
    "    if left >  right:\n",
    "        return -1\n",
    "    middle = (left + right) // 2\n",
    "    potentialMatch = array[middle]\n",
    "    if target == potentialMatch:\n",
    "        return middle\n",
    "    elif target < potentialMatch:\n",
    "        return binarySearchHelper(array, target, left, middle -1)\n",
    "    else:\n",
    "        return binarySearchHelper(array, target, middle + 1, right)\n",
    "    \n",
    "binarySearch([0, 1, 21, 33, 45, 45, 61, 71, 72, 73], 33)"
   ]
  },
  {
   "cell_type": "code",
   "execution_count": 3,
   "metadata": {},
   "outputs": [
    {
     "data": {
      "text/plain": [
       "3"
      ]
     },
     "execution_count": 3,
     "metadata": {},
     "output_type": "execute_result"
    }
   ],
   "source": [
    "# o(Log(n)) time | o(1) space\n",
    "def binarySearch(array, target):\n",
    "    return binarySearchHelper(array, target, 0, len(array) - 1)\n",
    "\n",
    "def binarySearchHelper(array, target, left, right):\n",
    "    while left <= right:\n",
    "        middle = (left + right) // 2\n",
    "        potentialMatch = array[middle]\n",
    "        if target == potentialMatch:\n",
    "            return middle\n",
    "        elif target < potentialMatch:\n",
    "            right = middle - 1\n",
    "        else:\n",
    "            left = middle + 1\n",
    "    return -1\n",
    "binarySearch([0, 1, 21, 33, 45, 45, 61, 71, 72, 73], 33) "
   ]
  },
  {
   "cell_type": "code",
   "execution_count": null,
   "metadata": {},
   "outputs": [],
   "source": []
  }
 ],
 "metadata": {
  "kernelspec": {
   "display_name": "Python 3",
   "language": "python",
   "name": "python3"
  },
  "language_info": {
   "codemirror_mode": {
    "name": "ipython",
    "version": 3
   },
   "file_extension": ".py",
   "mimetype": "text/x-python",
   "name": "python",
   "nbconvert_exporter": "python",
   "pygments_lexer": "ipython3",
   "version": "3.7.6"
  }
 },
 "nbformat": 4,
 "nbformat_minor": 4
}
