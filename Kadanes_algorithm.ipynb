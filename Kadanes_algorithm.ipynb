{
 "cells": [
  {
   "cell_type": "code",
   "execution_count": null,
   "metadata": {},
   "outputs": [],
   "source": [
    "# Kadanes Algorithm\n",
    "# o(n) time | o(1) space\n",
    "def kadanesAlgorithm(array):\n",
    "    maxEndingAlgorithm = array[0]\n",
    "    maxSoFar = array[0]\n",
    "    for num in array[1:]:\n",
    "        maxEndingHere = max(num, maxEndingHere + num)\n",
    "        maxSoFar = max(maxSoFar, maxEndingAlgorithm)\n",
    "    return maxSoFar"
   ]
  }
 ],
 "metadata": {
  "kernelspec": {
   "display_name": "Python 3",
   "language": "python",
   "name": "python3"
  },
  "language_info": {
   "codemirror_mode": {
    "name": "ipython",
    "version": 3
   },
   "file_extension": ".py",
   "mimetype": "text/x-python",
   "name": "python",
   "nbconvert_exporter": "python",
   "pygments_lexer": "ipython3",
   "version": "3.7.6"
  }
 },
 "nbformat": 4,
 "nbformat_minor": 4
}
