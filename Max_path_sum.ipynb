{
 "cells": [
  {
   "cell_type": "code",
   "execution_count": null,
   "metadata": {},
   "outputs": [],
   "source": [
    "# Max Path Sum\n",
    "# o(n) time | o(log(n)) space\n",
    "def maxPathSum(tree):\n",
    "    _,maxSum = findMaxSum(tree)\n",
    "    return maxSum\n",
    "\n",
    "def findMaxSum(tree):\n",
    "    if tree is None:\n",
    "        return(0, 0)\n",
    "    \n",
    "    leftMaxSumAsBranch, leftMaxPathSum = findMaxSum(tree.left)\n",
    "    rightMaxSumAsBranch, rightMaxPathSum = findMaxSum(tree.right)\n",
    "    maxChildSumAsBranch = max(leftMaxSumAsBranch, rightMaxSumAsBranch)\n",
    "    \n",
    "    value = tree.value\n",
    "    maxSumAsBranch = max(maxChildSumAsBranch + value, value)\n",
    "    maxSumAsRootNode = max(leftMaxSumAsBranch + value + rightMaxSumAsBranch, maxSumAsBranch)\n",
    "    maxPathSum = max(leftMaxPathSum, rightMaxPathSum, maxSumAsRootNode)\n",
    "    \n",
    "    return (maxSumAsBranch, max)"
   ]
  }
 ],
 "metadata": {
  "kernelspec": {
   "display_name": "Python 3",
   "language": "python",
   "name": "python3"
  },
  "language_info": {
   "codemirror_mode": {
    "name": "ipython",
    "version": 3
   },
   "file_extension": ".py",
   "mimetype": "text/x-python",
   "name": "python",
   "nbconvert_exporter": "python",
   "pygments_lexer": "ipython3",
   "version": "3.7.6"
  }
 },
 "nbformat": 4,
 "nbformat_minor": 4
}
