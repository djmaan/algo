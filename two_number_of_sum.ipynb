{
  "nbformat": 4,
  "nbformat_minor": 0,
  "metadata": {
    "colab": {
      "name": "two_number_of_sum.ipynb",
      "provenance": []
    },
    "kernelspec": {
      "name": "python3",
      "display_name": "Python 3"
    }
  },
  "cells": [
    {
      "cell_type": "markdown",
      "metadata": {
        "id": "DK5evBVFqS-B"
      },
      "source": [
        "#***Two Number Of Sum***\n"
      ]
    },
    {
      "cell_type": "code",
      "metadata": {
        "colab": {
          "base_uri": "https://localhost:8080/"
        },
        "id": "LlwbrevVqRrD",
        "outputId": "52e924d1-a6ed-4ff5-96e4-35c51b505be5"
      },
      "source": [
        "# o(n) time | o(n) space\n",
        "def twoNumberSum(array, targetSum):\n",
        "    nums = {}\n",
        "    for num in array:\n",
        "        potentialMatch = targetSum - num\n",
        "        if potentialMatch in nums:\n",
        "            return [potentialMatch, num]\n",
        "        else:\n",
        "            nums[num] = True\n",
        "    return []\n",
        "\n",
        "twoNumberSum([3,5,-4,8,11,1,-1,6], 10)"
      ],
      "execution_count": 5,
      "outputs": [
        {
          "output_type": "execute_result",
          "data": {
            "text/plain": [
              "[11, -1]"
            ]
          },
          "metadata": {
            "tags": []
          },
          "execution_count": 5
        }
      ]
    },
    {
      "cell_type": "code",
      "metadata": {
        "colab": {
          "base_uri": "https://localhost:8080/"
        },
        "id": "X9CDk6IfrMcu",
        "outputId": "048595cb-1f60-4cea-e57b-ebb68eb0b92e"
      },
      "source": [
        "# o(nLog(n)) time | o(1) space\n",
        "def twoNumberSum(array, targetSum):\n",
        "  array.sort()\n",
        "  left = 0\n",
        "  right = len(array) - 1\n",
        "  while left < right:\n",
        "    currentSum = array[left] + array[right]\n",
        "    if currentSum == targetSum:\n",
        "      return [array[left], array[right]]\n",
        "    elif currentSum < targetSum:\n",
        "      left += 1\n",
        "    elif currentSum > targetSum:\n",
        "      right -= 1\n",
        "  return []\n",
        "\n",
        "twoNumberSum([3,5,-4,8,11,1,-1,6], 14)\n"
      ],
      "execution_count": 14,
      "outputs": [
        {
          "output_type": "execute_result",
          "data": {
            "text/plain": [
              "[3, 11]"
            ]
          },
          "metadata": {
            "tags": []
          },
          "execution_count": 14
        }
      ]
    },
    {
      "cell_type": "code",
      "metadata": {
        "id": "fWPYHqCatzus"
      },
      "source": [
        ""
      ],
      "execution_count": null,
      "outputs": []
    }
  ]
}
