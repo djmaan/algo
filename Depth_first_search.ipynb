{
  "nbformat": 4,
  "nbformat_minor": 0,
  "metadata": {
    "colab": {
      "name": "Depth_first_search.ipynb",
      "provenance": []
    },
    "kernelspec": {
      "name": "python3",
      "display_name": "Python 3"
    }
  },
  "cells": [
    {
      "cell_type": "markdown",
      "metadata": {
        "id": "ntn4LI5GiRG2"
      },
      "source": [
        "# ***Depth First Search***"
      ]
    },
    {
      "cell_type": "code",
      "metadata": {
        "colab": {
          "base_uri": "https://localhost:8080/"
        },
        "id": "O5UvWyNpctwk",
        "outputId": "358aecd3-bfad-4f70-d091-626e640464b3"
      },
      "source": [
        "class Node:\n",
        "  def __init__(self, key):\n",
        "    self.left = None\n",
        "    self.right = None\n",
        "    self.value = key\n",
        "\n",
        "# Inorder\n",
        "def printInorder(root):\n",
        "  if root:\n",
        "    printInorder(root.left)\n",
        "    print(root.value)\n",
        "    printInorder(root.right)\n",
        "\n",
        "# Postorder\n",
        "def printPostorder(root):\n",
        "  if root:\n",
        "    printPostorder(root.left)\n",
        "    printPostorder(root.right)\n",
        "    print(root.value)\n",
        "\n",
        "# Preorder\n",
        "def printPreorder(root):\n",
        "  if root:\n",
        "    print(root.value)\n",
        "    printPreorder(root.left)\n",
        "    printPreorder(root.right)\n",
        "\n",
        "# Driver code \n",
        "root = Node(1) \n",
        "root.left      = Node(2) \n",
        "root.right     = Node(3) \n",
        "root.left.left  = Node(4) \n",
        "root.left.right  = Node(5) \n",
        "print (\"Preorder traversal of binary tree is\")\n",
        "printPreorder(root) \n",
        "  \n",
        "print (\"\\nInorder traversal of binary tree is\")\n",
        "printInorder(root) \n",
        "  \n",
        "print (\"\\nPostorder traversal of binary tree is\")\n",
        "printPostorder(root) "
      ],
      "execution_count": 3,
      "outputs": [
        {
          "output_type": "stream",
          "text": [
            "Preorder traversal of binary tree is\n",
            "1\n",
            "2\n",
            "4\n",
            "5\n",
            "3\n",
            "\n",
            "Inorder traversal of binary tree is\n",
            "4\n",
            "2\n",
            "5\n",
            "1\n",
            "3\n",
            "\n",
            "Postorder traversal of binary tree is\n",
            "4\n",
            "5\n",
            "2\n",
            "3\n",
            "1\n"
          ],
          "name": "stdout"
        }
      ]
    },
    {
      "cell_type": "code",
      "metadata": {
        "id": "t0xQf7peiENh"
      },
      "source": [
        ""
      ],
      "execution_count": null,
      "outputs": []
    }
  ]
}