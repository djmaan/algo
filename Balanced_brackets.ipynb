{
 "cells": [
  {
   "cell_type": "code",
   "execution_count": null,
   "metadata": {},
   "outputs": [],
   "source": [
    "# Balanced Bracket\n",
    "# o(N) time | o(N) space\n",
    "def balancedBrackets(string):\n",
    "    openingBrackets = \"([{\"\n",
    "    closingBrackets = \")]}\"\n",
    "    matchingBrackets = {\")\":\"(\", \"]\":\"[\", \"}\":\"{\"}\n",
    "    stack = []\n",
    "    for char in string:\n",
    "        if char in openingBrackets:\n",
    "            stack.append(char)\n",
    "        elif char in closingBrackets:\n",
    "            if len(stack) == 0:\n",
    "                return False\n",
    "            if stack[-1] == matchingBrackets[char]:\n",
    "                stack.pop()\n",
    "            else:\n",
    "                return False\n",
    "    return len(stack) == 0\n",
    "            "
   ]
  }
 ],
 "metadata": {
  "kernelspec": {
   "display_name": "Python 3",
   "language": "python",
   "name": "python3"
  },
  "language_info": {
   "codemirror_mode": {
    "name": "ipython",
    "version": 3
   },
   "file_extension": ".py",
   "mimetype": "text/x-python",
   "name": "python",
   "nbconvert_exporter": "python",
   "pygments_lexer": "ipython3",
   "version": "3.7.6"
  }
 },
 "nbformat": 4,
 "nbformat_minor": 4
}
