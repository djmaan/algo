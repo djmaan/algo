{
 "cells": [
  {
   "cell_type": "code",
   "execution_count": 1,
   "metadata": {},
   "outputs": [
    {
     "data": {
      "text/plain": [
       "[35, [8, 12, 15]]"
      ]
     },
     "execution_count": 1,
     "metadata": {},
     "output_type": "execute_result"
    }
   ],
   "source": [
    "# Max Sum Increase Subsequence\n",
    "# o(n^2) time | o(n) space\n",
    "def maxSumIncreasingSubsequence(array):\n",
    "    sequences = [None for x in array]\n",
    "    sums = array[:]\n",
    "    maxSumIdx = 0\n",
    "    for i in range(len(array)):\n",
    "        currentNum = array[i]\n",
    "        for j in range(0, i):\n",
    "            otherNum = array[j]\n",
    "            if otherNum < currentNum and sums[j] + currentNum >= sums[i]:\n",
    "                sums[i] = sums[j] + currentNum\n",
    "                sequences[i] = j\n",
    "        if sums[i] >= sums[maxSumIdx]:\n",
    "            maxSumIdx = i\n",
    "    return [sums[maxSumIdx], buildSequence(array, sequences, maxSumIdx)]\n",
    "\n",
    "def buildSequence(array, sequences, currentIdx):\n",
    "    sequence = []\n",
    "    while currentIdx is not None:\n",
    "        sequence.append(array[currentIdx])\n",
    "        currentIdx = sequences[currentIdx]\n",
    "    return list(reversed(sequence))\n",
    "\n",
    "maxSumIncreasingSubsequence([8, 12, 2, 3, 15, 5, 7])"
   ]
  },
  {
   "cell_type": "code",
   "execution_count": null,
   "metadata": {},
   "outputs": [],
   "source": []
  }
 ],
 "metadata": {
  "kernelspec": {
   "display_name": "Python 3",
   "language": "python",
   "name": "python3"
  },
  "language_info": {
   "codemirror_mode": {
    "name": "ipython",
    "version": 3
   },
   "file_extension": ".py",
   "mimetype": "text/x-python",
   "name": "python",
   "nbconvert_exporter": "python",
   "pygments_lexer": "ipython3",
   "version": "3.7.6"
  }
 },
 "nbformat": 4,
 "nbformat_minor": 4
}
