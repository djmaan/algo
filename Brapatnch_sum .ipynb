{
  "nbformat": 4,
  "nbformat_minor": 0,
  "metadata": {
    "colab": {
      "name": "Brapatnch_sum.ipynb",
      "provenance": []
    },
    "kernelspec": {
      "name": "python3",
      "display_name": "Python 3"
    }
  },
  "cells": [
    {
      "cell_type": "code",
      "metadata": {
        "colab": {
          "base_uri": "https://localhost:8080/"
        },
        "id": "UPq74fd6zTk-",
        "outputId": "11962bb5-8f04-49ef-cd29-d10d564cc5fa"
      },
      "source": [
        "#from collections import deque\n",
        "\n",
        "class Node:\n",
        "  \n",
        "  def __init__(self, x):\n",
        "\n",
        "    self.data = x\n",
        "    self.left = None\n",
        "    self.right = None\n",
        "\n",
        "pathSum = []\n",
        "\n",
        "def dfs(root, sum):\n",
        "  if (root == None):\n",
        "    return\n",
        "  sum += root.data\n",
        "  if (root.left == None and root.right == None):\n",
        "    pathSum.append(sum)\n",
        "    return\n",
        "  dfs(root.left, sum)\n",
        "  dfs(root.right, sum)\n",
        "\n",
        "def findPathSum(root):\n",
        "  dfs(root, 0)\n",
        "  for num in pathSum:\n",
        "    print(num, end = \" \")\n",
        "\n",
        "if __name__ == '__main__':\n",
        "  root = Node(30)\n",
        "  root.left = Node(10)\n",
        "  root.right = Node(50)\n",
        "  root.left.left = Node(3)\n",
        "  root.left.right = Node(16)\n",
        "  root.right.left = Node(40)\n",
        "  root.right.right = Node(60)\n",
        "\n",
        "  findPathSum(root)\n",
        "\n",
        "\n",
        "\n",
        "\n"
      ],
      "execution_count": 6,
      "outputs": [
        {
          "output_type": "stream",
          "text": [
            "43 56 120 140 "
          ],
          "name": "stdout"
        }
      ]
    },
    {
      "cell_type": "code",
      "metadata": {
        "id": "rNCc2CBBd0W8"
      },
      "source": [
        ""
      ],
      "execution_count": null,
      "outputs": []
    }
  ]
}