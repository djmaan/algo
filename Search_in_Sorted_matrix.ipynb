{
 "cells": [
  {
   "cell_type": "code",
   "execution_count": null,
   "metadata": {},
   "outputs": [],
   "source": [
    "# Search In Sorted Matrix\n",
    "# o(N + M) time | o(1) space\n",
    "def searchInSortedMatrix(matrix, target):\n",
    "    row = 0\n",
    "    col = len(matrix[0]) - 1\n",
    "    while row < len(matrix) and col >= 0:\n",
    "        if matrix[row][col] > target:\n",
    "            col -= 1\n",
    "        elif matrix[row][col] < target:\n",
    "            row += 1\n",
    "        else:\n",
    "            return [row, col]\n",
    "    return [-1, -1]\n"
   ]
  }
 ],
 "metadata": {
  "kernelspec": {
   "display_name": "Python 3",
   "language": "python",
   "name": "python3"
  },
  "language_info": {
   "codemirror_mode": {
    "name": "ipython",
    "version": 3
   },
   "file_extension": ".py",
   "mimetype": "text/x-python",
   "name": "python",
   "nbconvert_exporter": "python",
   "pygments_lexer": "ipython3",
   "version": "3.7.6"
  }
 },
 "nbformat": 4,
 "nbformat_minor": 4
}
