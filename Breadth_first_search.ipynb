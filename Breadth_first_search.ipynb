{
 "cells": [
  {
   "cell_type": "code",
   "execution_count": null,
   "metadata": {},
   "outputs": [],
   "source": [
    "# Bredth First Search\n",
    "# o(V + E) | o(v) space\n",
    "class Node:\n",
    "    self __init__(self, name):\n",
    "        self.children = []\n",
    "        self.name = name\n",
    "        \n",
    "    def addChild(self, name):\n",
    "        self.children.append(Node(name))\n",
    "        \n",
    "    def breadthFirstSearch(self, array):\n",
    "        queue = [self]\n",
    "        while len(queue) > 0:\n",
    "            current = queue.pop(0)\n",
    "            array.append(current.name)\n",
    "            for child in current.children:\n",
    "                queue.append(child)\n",
    "        return array\n",
    "    "
   ]
  },
  {
   "cell_type": "code",
   "execution_count": 2,
   "metadata": {},
   "outputs": [
    {
     "name": "stdout",
     "output_type": "stream",
     "text": [
      "Following is Breadth First Traversal (starting from vertex 2)\n",
      "2 0 3 1 "
     ]
    }
   ],
   "source": [
    "from collections import defaultdict\n",
    "\n",
    "class Graph:\n",
    "    def __init__(self):\n",
    "        self.graph = defaultdict(list)\n",
    "        \n",
    "    def addEdge(self, u, v):\n",
    "        self.graph[u].append(v)\n",
    "        \n",
    "    def BFS(self, s):\n",
    "        visited = [False] * (max(self.graph) + 1)\n",
    "        queue = []\n",
    "        queue.append(s)\n",
    "        visited[s] = True\n",
    "        \n",
    "        while queue:\n",
    "            s = queue.pop(0)\n",
    "            print(s, end = \" \")\n",
    "            \n",
    "            for i in self.graph[s]:\n",
    "                if visited[i] == False:\n",
    "                    queue.append(i)\n",
    "                    visited[i] = True\n",
    "\n",
    "g = Graph()\n",
    "g.addEdge(0, 1)\n",
    "g.addEdge(0, 2)\n",
    "g.addEdge(1, 2)\n",
    "g.addEdge(2, 0)\n",
    "g.addEdge(2, 3)\n",
    "g.addEdge(3, 3)\n",
    " \n",
    "print (\"Following is Breadth First Traversal\"\n",
    "                  \" (starting from vertex 2)\")\n",
    "g.BFS(2)"
   ]
  },
  {
   "cell_type": "code",
   "execution_count": null,
   "metadata": {},
   "outputs": [],
   "source": []
  }
 ],
 "metadata": {
  "kernelspec": {
   "display_name": "Python 3",
   "language": "python",
   "name": "python3"
  },
  "language_info": {
   "codemirror_mode": {
    "name": "ipython",
    "version": 3
   },
   "file_extension": ".py",
   "mimetype": "text/x-python",
   "name": "python",
   "nbconvert_exporter": "python",
   "pygments_lexer": "ipython3",
   "version": "3.7.6"
  }
 },
 "nbformat": 4,
 "nbformat_minor": 4
}
