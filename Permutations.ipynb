{
 "cells": [
  {
   "cell_type": "code",
   "execution_count": null,
   "metadata": {},
   "outputs": [],
   "source": [
    "# Permutations\n",
    "def getPermutations(array):\n",
    "    permutations = []\n",
    "    permutationsHelper(array, [], permutations)\n",
    "    return permutations\n",
    "\n",
    "def permutationsHelper(array, currentPermutation, permutations):\n",
    "    if not len(array) and len(currentPermutation):\n",
    "        permutations.append(currentPermutation)\n",
    "    else:\n",
    "        for i in range(len(array)):\n",
    "            newArray = array[:i] + array[i + 1:]\n",
    "            newPermutation = currentPermutation + [array[i]]\n",
    "            permutationsHelper(newArray, newPermutation, permutations)\n",
    "        "
   ]
  },
  {
   "cell_type": "code",
   "execution_count": 2,
   "metadata": {},
   "outputs": [
    {
     "data": {
      "text/plain": [
       "[[1, 2, 3], [1, 3, 2], [2, 1, 3], [2, 3, 1], [3, 2, 1], [3, 1, 2]]"
      ]
     },
     "execution_count": 2,
     "metadata": {},
     "output_type": "execute_result"
    }
   ],
   "source": [
    "def getPermutations(array):\n",
    "    permutations = []\n",
    "    permutationsHelper(0, array, permutations)\n",
    "    return permutations\n",
    "\n",
    "def permutationsHelper(i, array, permutations):\n",
    "    if i == len(array) - 1:\n",
    "        permutations.append(array[:])\n",
    "    else:\n",
    "        for j in range(i, len(array)):\n",
    "            swap(array, i, j)\n",
    "            permutationsHelper(i + 1, array, permutations)\n",
    "            swap(array, i, j)\n",
    "\n",
    "def swap(array, i, j):\n",
    "    array[i], array[j] = array[j], array[i]\n",
    "    \n",
    "getPermutations([1, 2, 3])"
   ]
  },
  {
   "cell_type": "code",
   "execution_count": null,
   "metadata": {},
   "outputs": [],
   "source": []
  }
 ],
 "metadata": {
  "kernelspec": {
   "display_name": "Python 3",
   "language": "python",
   "name": "python3"
  },
  "language_info": {
   "codemirror_mode": {
    "name": "ipython",
    "version": 3
   },
   "file_extension": ".py",
   "mimetype": "text/x-python",
   "name": "python",
   "nbconvert_exporter": "python",
   "pygments_lexer": "ipython3",
   "version": "3.7.6"
  }
 },
 "nbformat": 4,
 "nbformat_minor": 4
}
