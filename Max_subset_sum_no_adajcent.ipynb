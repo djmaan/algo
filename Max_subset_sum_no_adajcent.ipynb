{
 "cells": [
  {
   "cell_type": "code",
   "execution_count": null,
   "metadata": {},
   "outputs": [],
   "source": [
    "# Max Subset Sum No Adjacent\n",
    "# o(n) time | o(n) space\n",
    "\n",
    "def maxSubsetSumNoAjacent(array):\n",
    "    if not len(array):\n",
    "        return\n",
    "    elif len(array) == 1:\n",
    "        return array[0]\n",
    "    maxSums = array[:]\n",
    "    maxSums[1] = max(array[0], array[1])\n",
    "    for i in range(2, len(array)):\n",
    "        maxSums[i] = max(maxSums[i - 1], maxSums[i - 2] + array[i])\n",
    "    return maxSums[-1]\n"
   ]
  }
 ],
 "metadata": {
  "kernelspec": {
   "display_name": "Python 3",
   "language": "python",
   "name": "python3"
  },
  "language_info": {
   "codemirror_mode": {
    "name": "ipython",
    "version": 3
   },
   "file_extension": ".py",
   "mimetype": "text/x-python",
   "name": "python",
   "nbconvert_exporter": "python",
   "pygments_lexer": "ipython3",
   "version": "3.7.6"
  }
 },
 "nbformat": 4,
 "nbformat_minor": 4
}
