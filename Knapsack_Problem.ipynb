{
 "cells": [
  {
   "cell_type": "code",
   "execution_count": null,
   "metadata": {},
   "outputs": [],
   "source": [
    "# Knapsack Problem\n",
    "# o(nc) time | o(nc) space\n",
    "def knapsackProblem(items, capaity):\n",
    "    knapsackValues = [[0 for x in range(0, capacity + 1)] for y in range(0, len(items) + 1)]\n",
    "    for i in range(1, len(items) + 1):\n",
    "        currentWeight = items[i - 1][1]\n",
    "        currentValue = items[i - 1][0]\n",
    "        for c in range(0, capacity + 1):\n",
    "            if currentWeight > c:\n",
    "                knapsackValues[i][c] = knapsackValues[i - 1][c]\n",
    "            else:\n",
    "                knapsackValues[i][c] = max(knapsackValues[i - 1][c], knapsackValues[i - 1][c - currentWeight] + currentValue)\n",
    "        return [knapsackValues[-1][-1], getKnapSackItems(knapsackValues, items)]\n",
    "    \n",
    "def getKnapSackItems(knapsackValues, items):\n",
    "    sequence = []\n",
    "    i = len(knapsackValues) - 1\n",
    "    c = len(knapsackValues[0]) - 1\n",
    "    while i > 0:\n",
    "        if knapsackValues[i][c] == knapsackValues[i - 1][c]:\n",
    "            i -= 1\n",
    "        else:\n",
    "            "
   ]
  }
 ],
 "metadata": {
  "kernelspec": {
   "display_name": "Python 3",
   "language": "python",
   "name": "python3"
  },
  "language_info": {
   "codemirror_mode": {
    "name": "ipython",
    "version": 3
   },
   "file_extension": ".py",
   "mimetype": "text/x-python",
   "name": "python",
   "nbconvert_exporter": "python",
   "pygments_lexer": "ipython3",
   "version": "3.7.6"
  }
 },
 "nbformat": 4,
 "nbformat_minor": 4
}
