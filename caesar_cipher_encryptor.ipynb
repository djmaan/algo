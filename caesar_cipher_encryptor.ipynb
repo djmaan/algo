{
 "cells": [
  {
   "cell_type": "code",
   "execution_count": null,
   "metadata": {},
   "outputs": [],
   "source": [
    "# Caesar Cipher Encryptor\n",
    "# o(n) time | o(n) space\n",
    "\n",
    "def caesarCipherEncryptor(string, key):\n",
    "    newLetters = []\n",
    "    newKey = key % 26\n",
    "    for letter in string:\n",
    "        newLetters.append(getNewLetter(Letter, newKey))\n",
    "    return \"\".join(newLetters)\n",
    "\n",
    "def getNewLetter(Letter, key):\n",
    "    newLetterCode = ord(Letter) + key\n",
    "    return chr(newLetterCode) if newletterCode <= 122 else chr(96 + newletterCode % 122)\n",
    "\n",
    "        "
   ]
  },
  {
   "cell_type": "code",
   "execution_count": null,
   "metadata": {},
   "outputs": [],
   "source": [
    "# o(n) time | o(n) space\n",
    "def caesarCipherEncryptor(string, key):\n",
    "    newletters = []\n",
    "    newKey = key % 26\n",
    "    alphabet = list(\"abcdefghijklmnopqrstuvwxyz\")\n",
    "    for letter in string:\n",
    "        newLetters.append(getNewLetter(Letter, newKey, alphabet))\n",
    "    return \"\".join(newLetters)\n",
    "\n",
    "def getNewLetter(letter, key, alphabet):\n",
    "    newLetterCode = alphabet.index(letter) + key\n",
    "    return alphabet(newLetterCode) if newLetterCode <= 25 else alphabet(-1 + newletterCode % 25)\n"
   ]
  }
 ],
 "metadata": {
  "kernelspec": {
   "display_name": "Python 3",
   "language": "python",
   "name": "python3"
  },
  "language_info": {
   "codemirror_mode": {
    "name": "ipython",
    "version": 3
   },
   "file_extension": ".py",
   "mimetype": "text/x-python",
   "name": "python",
   "nbconvert_exporter": "python",
   "pygments_lexer": "ipython3",
   "version": "3.7.6"
  }
 },
 "nbformat": 4,
 "nbformat_minor": 4
}
