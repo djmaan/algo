{
 "cells": [
  {
   "cell_type": "code",
   "execution_count": 3,
   "metadata": {},
   "outputs": [
    {
     "data": {
      "text/plain": [
       "[18, 141, 541]"
      ]
     },
     "execution_count": 3,
     "metadata": {},
     "output_type": "execute_result"
    }
   ],
   "source": [
    "# o(n) time | o(1) space\n",
    "def findThreeLargestNumbers(array):\n",
    "    threeLargest = [None, None, None]\n",
    "    for num in array:\n",
    "        updateLargest(threeLargest, num)\n",
    "    return threeLargest\n",
    "\n",
    "def updateLargest(threeLargest, num):\n",
    "    if threeLargest[2] is None or num > threeLargest[2]:\n",
    "        shiftAndUpdate(threeLargest, num, 2)\n",
    "    elif threeLargest[1] is None or num > threeLargest[1]:\n",
    "        shiftAndUpdate(threeLargest, num, 1) \n",
    "    elif threeLargest[0] is None or num > threeLargest[0]:\n",
    "        shiftAndUpdate(threeLargest, num, 0)\n",
    "        \n",
    "def shiftAndUpdate(array, num, idx):\n",
    "    for i in range(idx + 1):\n",
    "        if i == idx:\n",
    "            array[i] = num\n",
    "        else:\n",
    "            array[i] = array[i + 1]\n",
    "            \n",
    "findThreeLargestNumbers([141, 1, 17, -7, -17, -27, 18, 541, 8, 7, 7])         "
   ]
  },
  {
   "cell_type": "code",
   "execution_count": null,
   "metadata": {},
   "outputs": [],
   "source": []
  }
 ],
 "metadata": {
  "kernelspec": {
   "display_name": "Python 3",
   "language": "python",
   "name": "python3"
  },
  "language_info": {
   "codemirror_mode": {
    "name": "ipython",
    "version": 3
   },
   "file_extension": ".py",
   "mimetype": "text/x-python",
   "name": "python",
   "nbconvert_exporter": "python",
   "pygments_lexer": "ipython3",
   "version": "3.7.6"
  }
 },
 "nbformat": 4,
 "nbformat_minor": 4
}
