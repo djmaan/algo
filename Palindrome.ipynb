{
 "cells": [
  {
   "cell_type": "code",
   "execution_count": null,
   "metadata": {},
   "outputs": [],
   "source": [
    "# palindrome\n",
    "# o(N2) time | o(N) space\n",
    "\n",
    "def isPalindrome(string):\n",
    "    reversedString = []\n",
    "    for i in reversed(range(len(string))):\n",
    "        reversedStringstring[i]\n",
    "    return string == reversedString\n",
    "\n"
   ]
  },
  {
   "cell_type": "code",
   "execution_count": null,
   "metadata": {},
   "outputs": [],
   "source": [
    "# o(n) time | o(n) space\n",
    "\n",
    "def isPalindrome(string, i = 0):\n",
    "    j = len(string) - 1 - i\n",
    "    return True if i >= j else string[i] == string[j] and isPalindrome(string, i + 1)\n"
   ]
  },
  {
   "cell_type": "code",
   "execution_count": null,
   "metadata": {},
   "outputs": [],
   "source": [
    "# o(n) time  | o(1) space\n",
    "\n",
    "def isPalindrome(string):\n",
    "    leftIdx = 0\n",
    "    rightIdx = len(string) - 1\n",
    "    while leftIdx < rightIdx:\n",
    "        if string[leftIdx]! = string[tightIdx]:\n",
    "            return False\n",
    "        leftIdx += 1\n",
    "        rightIdx -= 1\n",
    "    return True\n"
   ]
  }
 ],
 "metadata": {
  "kernelspec": {
   "display_name": "Python 3",
   "language": "python",
   "name": "python3"
  },
  "language_info": {
   "codemirror_mode": {
    "name": "ipython",
    "version": 3
   },
   "file_extension": ".py",
   "mimetype": "text/x-python",
   "name": "python",
   "nbconvert_exporter": "python",
   "pygments_lexer": "ipython3",
   "version": "3.7.6"
  }
 },
 "nbformat": 4,
 "nbformat_minor": 4
}
