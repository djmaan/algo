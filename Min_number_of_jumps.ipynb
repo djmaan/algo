{
 "cells": [
  {
   "cell_type": "code",
   "execution_count": null,
   "metadata": {},
   "outputs": [],
   "source": [
    "# Min Number Of Jumps\n",
    "# o(n^2) time | o(n) space\n",
    "def minNumberOfJumps(array):\n",
    "    jumps = [float(\"inf\") for x in array]\n",
    "    jumps[0] = 0\n",
    "    for i in range(1, len(array)):\n",
    "        for j in range(0, i):\n",
    "            if array[j] + j >= i:\n",
    "                jumps[i] = min(jumps[j] + 1, jumps[i])\n",
    "    return jumps[-1]"
   ]
  }
 ],
 "metadata": {
  "kernelspec": {
   "display_name": "Python 3",
   "language": "python",
   "name": "python3"
  },
  "language_info": {
   "codemirror_mode": {
    "name": "ipython",
    "version": 3
   },
   "file_extension": ".py",
   "mimetype": "text/x-python",
   "name": "python",
   "nbconvert_exporter": "python",
   "pygments_lexer": "ipython3",
   "version": "3.7.6"
  }
 },
 "nbformat": 4,
 "nbformat_minor": 4
}
