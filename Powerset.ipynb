{
 "cells": [
  {
   "cell_type": "code",
   "execution_count": 1,
   "metadata": {},
   "outputs": [
    {
     "data": {
      "text/plain": [
       "[[], [1], [2], [1, 2], [3], [1, 3], [2, 3], [1, 2, 3]]"
      ]
     },
     "execution_count": 1,
     "metadata": {},
     "output_type": "execute_result"
    }
   ],
   "source": [
    "# Powerset\n",
    "# o(n*2^n) time | o(n*2^n) space \n",
    "def powerSet(array):\n",
    "    subsets = [[]]\n",
    "    for ele in array:\n",
    "        for i in range(len(subsets)):\n",
    "            currentSubsets = subsets[i]\n",
    "            subsets.append(currentSubsets + [ele])\n",
    "    return subsets\n",
    "\n",
    "powerSet([1, 2, 3])"
   ]
  },
  {
   "cell_type": "code",
   "execution_count": 3,
   "metadata": {},
   "outputs": [
    {
     "data": {
      "text/plain": [
       "[[], [1], [2], [1, 2], [3], [1, 3], [2, 3], [1, 2, 3]]"
      ]
     },
     "execution_count": 3,
     "metadata": {},
     "output_type": "execute_result"
    }
   ],
   "source": [
    "def powerSet(array, idx = None):\n",
    "    if idx == None:\n",
    "        idx = len(array) - 1\n",
    "    elif idx < 0:\n",
    "        return [[]]\n",
    "    ele = array[idx]\n",
    "    subsets = powerSet(array, idx - 1)\n",
    "    for i in range(len(subsets)):\n",
    "            currentSubsets = subsets[i]\n",
    "            subsets.append(currentSubsets + [ele])\n",
    "    return subsets\n",
    "\n",
    "powerSet([1, 2, 3])"
   ]
  },
  {
   "cell_type": "code",
   "execution_count": null,
   "metadata": {},
   "outputs": [],
   "source": []
  }
 ],
 "metadata": {
  "kernelspec": {
   "display_name": "Python 3",
   "language": "python",
   "name": "python3"
  },
  "language_info": {
   "codemirror_mode": {
    "name": "ipython",
    "version": 3
   },
   "file_extension": ".py",
   "mimetype": "text/x-python",
   "name": "python",
   "nbconvert_exporter": "python",
   "pygments_lexer": "ipython3",
   "version": "3.7.6"
  }
 },
 "nbformat": 4,
 "nbformat_minor": 4
}
