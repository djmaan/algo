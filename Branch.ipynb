{
  "nbformat": 4,
  "nbformat_minor": 0,
  "metadata": {
    "colab": {
      "name": "Branch.ipynb",
      "provenance": []
    },
    "kernelspec": {
      "name": "python3",
      "display_name": "Python 3"
    }
  },
  "cells": [
    {
      "cell_type": "code",
      "metadata": {
        "id": "HclDgs9MrT8T"
      },
      "source": [
        "class BinaryTree:\n",
        "  def __init__(self, value):\n",
        "    self.value = value\n",
        "    self.left = None\n",
        "    self.right = None\n",
        "\n",
        "# o(n) time | o(n) space\n",
        "def branchSums(root):\n",
        "  sums = []\n",
        "  calculateBranchSums(root, 0, sums)\n",
        "  return sums\n",
        "\n",
        "def calculateBranchSums(node, runningSum, sums):\n",
        "  if node is None:\n",
        "    return\n",
        "\n",
        "  newRunningSum = runningSum + node.value\n",
        "  if node.left is None and node.right is None:\n",
        "    sums.append(newRunningSum)\n",
        "    return\n",
        "\n",
        "  calculateBranchSums(node.left, newRunningSum, sums)\n",
        "  calculateBranchSums(node.right, newRunningSum, sums)\n"
      ],
      "execution_count": null,
      "outputs": []
    }
  ]
}