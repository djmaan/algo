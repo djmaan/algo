{
 "cells": [
  {
   "cell_type": "code",
   "execution_count": 1,
   "metadata": {},
   "outputs": [
    {
     "data": {
      "text/plain": [
       "12"
      ]
     },
     "execution_count": 1,
     "metadata": {},
     "output_type": "execute_result"
    }
   ],
   "source": [
    "# Product Sum\n",
    "# o(n) time | o(d) space\n",
    "def productSum(array, multiplier = 1):\n",
    "    sum = 0\n",
    "    for element in array:\n",
    "        if type(element) is list:\n",
    "            sum += productSum(element, multiplier + 1)\n",
    "        else:\n",
    "            sum += element\n",
    "    return sum * multiplier\n",
    "\n",
    "array = [5,2,[7,-1],3,[6,[-13, 8],4]]\n",
    "productSum(array)"
   ]
  },
  {
   "cell_type": "code",
   "execution_count": null,
   "metadata": {},
   "outputs": [],
   "source": []
  }
 ],
 "metadata": {
  "kernelspec": {
   "display_name": "Python 3",
   "language": "python",
   "name": "python3"
  },
  "language_info": {
   "codemirror_mode": {
    "name": "ipython",
    "version": 3
   },
   "file_extension": ".py",
   "mimetype": "text/x-python",
   "name": "python",
   "nbconvert_exporter": "python",
   "pygments_lexer": "ipython3",
   "version": "3.7.6"
  }
 },
 "nbformat": 4,
 "nbformat_minor": 4
}
