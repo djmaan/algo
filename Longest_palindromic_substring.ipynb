{
 "cells": [
  {
   "cell_type": "code",
   "execution_count": 5,
   "metadata": {},
   "outputs": [
    {
     "name": "stdout",
     "output_type": "stream",
     "text": [
      "10\n"
     ]
    }
   ],
   "source": [
    "# Longest Palindrome Substring\n",
    "# o(n^2) time | o(1) space\n",
    "def longestPalindromicSubstring(string):\n",
    "    currentLongest = [0, 1]\n",
    "    for i in range(1, len(string)):\n",
    "        odd = getLongestPalindromeFrom(string, i - 1, i + 1)\n",
    "        even = getLongestPalindromeFrom(string, i - 1, i)\n",
    "        longest = max(odd, even, key = lambda x: x[1] - x[0])\n",
    "        currentLongest = max(longest, currentLongest, key = lambda x: x[1] - x[0])\n",
    "    return string[currentLongest[0]: currentLongest[1]]\n",
    "\n",
    "def getLongestPalindromeFrom(string, leftIdx, rightIdx):\n",
    "    while leftIdx >= 0 and rightIdx < len(string):\n",
    "        if string[leftIdx] != string[rightIdx]:\n",
    "            break\n",
    "        leftIdx -= 1\n",
    "        rightIdx += 1\n",
    "    return [leftIdx + 1, rightIdx]\n",
    "\n",
    "lr = \"forgeeksskeegfor\"\n",
    "le = longestPalindromicSubstring(lr)\n",
    "print(len(le))"
   ]
  },
  {
   "cell_type": "code",
   "execution_count": null,
   "metadata": {},
   "outputs": [],
   "source": []
  }
 ],
 "metadata": {
  "kernelspec": {
   "display_name": "Python 3",
   "language": "python",
   "name": "python3"
  },
  "language_info": {
   "codemirror_mode": {
    "name": "ipython",
    "version": 3
   },
   "file_extension": ".py",
   "mimetype": "text/x-python",
   "name": "python",
   "nbconvert_exporter": "python",
   "pygments_lexer": "ipython3",
   "version": "3.7.6"
  }
 },
 "nbformat": 4,
 "nbformat_minor": 4
}
