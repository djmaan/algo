{
 "cells": [
  {
   "cell_type": "code",
   "execution_count": null,
   "metadata": {},
   "outputs": [],
   "source": [
    "# Min Rewards\n",
    "# o(n) time | o(n) space\n",
    "def minRewards(scores):\n",
    "    rewards = [i for _ in scores]\n",
    "    for i in range(1, len(scores)):\n",
    "        if scores[i] > scores[i - 1]:\n",
    "            rewards[i] = rewards[i - 1] + 1\n",
    "    for i in reversed(range(len(scores) - 1)):\n",
    "        if scores[i] > scores[i + 1]:\n",
    "            rewards[i] = max(rewards[i], rewards[i + 1] + 1)\n",
    "    return sum(rewards)\n"
   ]
  }
 ],
 "metadata": {
  "kernelspec": {
   "display_name": "Python 3",
   "language": "python",
   "name": "python3"
  },
  "language_info": {
   "codemirror_mode": {
    "name": "ipython",
    "version": 3
   },
   "file_extension": ".py",
   "mimetype": "text/x-python",
   "name": "python",
   "nbconvert_exporter": "python",
   "pygments_lexer": "ipython3",
   "version": "3.7.6"
  }
 },
 "nbformat": 4,
 "nbformat_minor": 4
}
