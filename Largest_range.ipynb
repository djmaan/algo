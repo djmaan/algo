{
 "cells": [
  {
   "cell_type": "code",
   "execution_count": null,
   "metadata": {},
   "outputs": [],
   "source": [
    "# Longest Range\n",
    "# o(n) time | o(n) space\n",
    "def largestRange(array):\n",
    "    bestRange = []\n",
    "    longestLength = 0\n",
    "    nums = {}\n",
    "    for num in array:\n",
    "        nums[num] = True\n",
    "    for num in array:\n",
    "        if not nums[num]:\n",
    "            continue\n",
    "        nums[num] = False\n",
    "        currentLength = 1\n",
    "        left = num - 1\n",
    "        right = num + 1\n",
    "        while left in nums:\n",
    "            nums[left] = False\n",
    "            currentLength += 1\n",
    "            left -= 1\n",
    "        while right in nums:\n",
    "            nums[right] = False\n",
    "            currentLength += 1\n",
    "            right += 1\n",
    "        if currentLength > longestLength:\n",
    "            longestLength = currentLength\n",
    "            bestRange = [left + 1, right - 1]\n",
    "    return bestRange\n"
   ]
  }
 ],
 "metadata": {
  "kernelspec": {
   "display_name": "Python 3",
   "language": "python",
   "name": "python3"
  },
  "language_info": {
   "codemirror_mode": {
    "name": "ipython",
    "version": 3
   },
   "file_extension": ".py",
   "mimetype": "text/x-python",
   "name": "python",
   "nbconvert_exporter": "python",
   "pygments_lexer": "ipython3",
   "version": "3.7.6"
  }
 },
 "nbformat": 4,
 "nbformat_minor": 4
}
