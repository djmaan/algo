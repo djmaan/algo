{
 "cells": [
  {
   "cell_type": "code",
   "execution_count": 2,
   "metadata": {},
   "outputs": [
    {
     "name": "stdout",
     "output_type": "stream",
     "text": [
      "Is BST\n"
     ]
    }
   ],
   "source": [
    "# validate BST\n",
    "# o(n) time | o(d) space\n",
    "\n",
    "INT_MAX =  4294967296\n",
    "INT_MIN = -4294967296\n",
    "\n",
    "class Node:\n",
    "    def __init__(self, data):\n",
    "        self.data = data\n",
    "        self.left = None\n",
    "        self.right = None\n",
    "\n",
    "def isBST(node):\n",
    "    return isBSTUtil(node, INT_MIN, INT_MAX)\n",
    "\n",
    "def isBSTUtil(node, mini, maxi):\n",
    "    if node is None:\n",
    "        return True\n",
    "    if node.data < mini or node.data > maxi:\n",
    "        return False\n",
    "    return isBSTUtil(node.left, mini, node.data -1) and isBSTUtil(node.right, node.data +1, maxi)\n",
    "\n",
    "root = Node(4) \n",
    "root.left = Node(2) \n",
    "root.right = Node(5) \n",
    "root.left.left = Node(1) \n",
    "root.left.right = Node(3) \n",
    "  \n",
    "if (isBST(root)): \n",
    "    print(\"Is BST\")\n",
    "else: \n",
    "    print(\"Not a BST\")"
   ]
  },
  {
   "cell_type": "code",
   "execution_count": null,
   "metadata": {},
   "outputs": [],
   "source": []
  }
 ],
 "metadata": {
  "kernelspec": {
   "display_name": "Python 3",
   "language": "python",
   "name": "python3"
  },
  "language_info": {
   "codemirror_mode": {
    "name": "ipython",
    "version": 3
   },
   "file_extension": ".py",
   "mimetype": "text/x-python",
   "name": "python",
   "nbconvert_exporter": "python",
   "pygments_lexer": "ipython3",
   "version": "3.7.6"
  }
 },
 "nbformat": 4,
 "nbformat_minor": 4
}
