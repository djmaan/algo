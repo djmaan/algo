{
  "nbformat": 4,
  "nbformat_minor": 0,
  "metadata": {
    "colab": {
      "name": " closest_value_in_bst.ipynb",
      "provenance": [],
      "collapsed_sections": []
    },
    "kernelspec": {
      "name": "python3",
      "display_name": "Python 3"
    }
  },
  "cells": [
    {
      "cell_type": "code",
      "metadata": {
        "id": "pnPjC838rLw7"
      },
      "source": [
        "# Average: o(Log(n)) time | o(Log(n)) space\n",
        "# worst: o(n) time | o(n) space \n",
        "def findClosestValueInBst(tree, target):\n",
        "  return findClosestValueInBstHelper(tree, target, float(\"inf\"))\n",
        "\n",
        "def findClosestValueInBstHelper(tree, target, closest):\n",
        "  if tree is None:\n",
        "    return closest\n",
        "  if abs(target - closest) > abs(target - tree.value):\n",
        "    closest = tree.value\n",
        "  if target < tree.value:\n",
        "    return findClosestValueInBstHelper(tree.left, target, closest)\n",
        "  elif target > tree.value:\n",
        "    return findClosestValueInBstHelper(tree.right, target, closest)\n",
        "  else:\n",
        "    return closest \n",
        "\n"
      ],
      "execution_count": null,
      "outputs": []
    },
    {
      "cell_type": "code",
      "metadata": {
        "id": "f3dYaQCQzhno"
      },
      "source": [
        "# Average: o(Log(n)) time | o(1) space\n",
        "# worst: o(n) time | o(1) space \n",
        "def findClosestValueInBst(tree, target):\n",
        "  return findClosestValueInBstHelper(tree, target, float(\"inf\"))\n",
        "\n",
        "def findClosestValueInBstHelper(tree, target, closest):\n",
        "  currentNode = tree\n",
        "  while currentNode is not None:\n",
        "    if abs(target - closest) > abs(target - currentNode.value):\n",
        "      closest = currentNode.value\n",
        "    if target < currentNode.value:\n",
        "      currentNode = currentNode.left\n",
        "    elif target > currentNode.value:\n",
        "      currentNode = currentNode.right\n",
        "    else:\n",
        "      break\n",
        "  return closest"
      ],
      "execution_count": null,
      "outputs": []
    }
  ]
}