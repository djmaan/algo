{
  "nbformat": 4,
  "nbformat_minor": 0,
  "metadata": {
    "colab": {
      "name": " closest_value_in_bst.ipynb",
      "provenance": [],
      "collapsed_sections": []
    },
    "kernelspec": {
      "name": "python3",
      "display_name": "Python 3"
    }
  },
  "cells": [
    {
      "cell_type": "code",
      "metadata": {
        "id": "pnPjC838rLw7",
        "colab": {
          "base_uri": "https://localhost:8080/"
        },
        "outputId": "eb0b4d37-78a8-4abf-e182-01c455ed3116"
      },
      "source": [
        "# Average: o(Log(n)) time | o(Log(n)) space\n",
        "# worst: o(n) time | o(n) space \n",
        "\n",
        "class Node:\n",
        "  def __init__(self, value):\n",
        "    self.value = value\n",
        "    self.left = None\n",
        "    self.right = None\n",
        "\n",
        "def findClosestValueInBst(tree, target):\n",
        "  return findClosestValueInBstHelper(tree, target, float(\"inf\"))\n",
        "\n",
        "def findClosestValueInBstHelper(tree, target, closest):\n",
        "  if tree is None:\n",
        "    return closest\n",
        "  if abs(target - closest) > abs(target - tree.value):\n",
        "    closest = tree.value\n",
        "  if target < tree.value:\n",
        "    return findClosestValueInBstHelper(tree.left, target, closest)\n",
        "  elif target > tree.value:\n",
        "    return findClosestValueInBstHelper(tree.right, target, closest)\n",
        "  else:\n",
        "    return closest \n",
        "if __name__ == '__main__':\n",
        "  tree = Node(9)  \n",
        "  tree.left = Node(4)  \n",
        "  tree.right = Node(17) \n",
        "  tree.left.left = Node(3)  \n",
        "  tree.left.right = Node(6) \n",
        "  tree.left.right.left = Node(5)  \n",
        "  tree.left.right.right = Node(7)  \n",
        "  tree.right.right = Node(22) \n",
        "  tree.right.right.left = Node(20) \n",
        "\n",
        "  print(findClosestValueInBst(tree, 10))\n",
        "\n",
        "\n",
        "\n"
      ],
      "execution_count": 8,
      "outputs": [
        {
          "output_type": "stream",
          "text": [
            "9\n"
          ],
          "name": "stdout"
        }
      ]
    },
    {
      "cell_type": "code",
      "metadata": {
        "id": "f3dYaQCQzhno"
      },
      "source": [
        "# Average: o(Log(n)) time | o(1) space\n",
        "# worst: o(n) time | o(1) space \n",
        "def findClosestValueInBst(tree, target):\n",
        "  return findClosestValueInBstHelper(tree, target, float(\"inf\"))\n",
        "\n",
        "def findClosestValueInBstHelper(tree, target, closest):\n",
        "  currentNode = tree\n",
        "  while currentNode is not None:\n",
        "    if abs(target - closest) > abs(target - currentNode.value):\n",
        "      closest = currentNode.value\n",
        "    if target < currentNode.value:\n",
        "      currentNode = currentNode.left\n",
        "    elif target > currentNode.value:\n",
        "      currentNode = currentNode.right\n",
        "    else:\n",
        "      break\n",
        "  return closest"
      ],
      "execution_count": null,
      "outputs": []
    }
  ]
}