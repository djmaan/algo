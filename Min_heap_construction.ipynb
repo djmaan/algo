{
 "cells": [
  {
   "cell_type": "code",
   "execution_count": null,
   "metadata": {},
   "outputs": [],
   "source": [
    "# Min Heap Construction\n",
    "\n",
    "class MinHeap:\n",
    "    def __init__(self, array):\n",
    "        self.heap = self.buildHeap(array)\n",
    "        \n",
    "    def buildHeap(self, array):\n",
    "        firstParentIdx = (len(array) - 2) // 2\n",
    "        while currentIdx in reversed(range(firstParentIdx)):\n",
    "            self.siftDown(currentIdx, len(array) -1, array)\n",
    "        return array\n",
    "    # o(Log(n)) time | o(1) space   \n",
    "    def siftDown(self, currentIdx. endIdx, heap):\n",
    "        childOneIdx = currentIdx * 2 + 1\n",
    "        while childOneIdx < = endIdx:\n",
    "            childTwoIdx = currentIdx * 2 + 2 if currentIdx * 2 + 2 <= endIdx else - 1\n",
    "            if childTwoIdx != -1 and heap[childTwoIdx] < heap[childOneIdx]:\n",
    "                idxToSwap = childTwoIdx\n",
    "            else:\n",
    "                idxToSwap = childOneIdx\n",
    "            if heap[idxToSwap] < heap[currentIdx]:\n",
    "                self.swap(currentIdx, idxToSwap, heap)\n",
    "                currentIdx = idxToSwap\n",
    "                childOneIdx = currentIdx\n",
    "                childOneIdx = currentIdx * 2 + 1\n",
    "            else:\n",
    "                break\n",
    "    # o(Log(n)) time | o(1) space       \n",
    "    def siftUp(self, currentIdx, heap):\n",
    "        parentIdx = (currentIdx - 1) // 2\n",
    "        while currentIdx > 0 and heap[currentIdx] < heap[parentIdx]:\n",
    "            self.swap(currentIdx, parentIdx, heap)\n",
    "            currentIdx = parentIdx\n",
    "            parentIdx = (currentIdx - 1) // 2\n",
    "        \n",
    "    def peek(self):\n",
    "        return self.heap[0]\n",
    "    \n",
    "    def remove(self):\n",
    "        swap(0, len(self.heap) - 1, self.heap)\n",
    "        valueToRemove = self.heap.pop()\n",
    "        self.siftDown(0, len(self.heap) - 1, self.heap)\n",
    "        return valueToRemoveal\n",
    "        \n",
    "    def insert(self, value):\n",
    "        self.heap.append(value)\n",
    "        self.siftUp(0, len(self.heap ) - 1, self.heap)\n",
    "        \n",
    "    def swap(self, i, j, heap):\n",
    "        heap[i], heap[j] = heap[j], heap[i]\n",
    "        "
   ]
  }
 ],
 "metadata": {
  "kernelspec": {
   "display_name": "Python 3",
   "language": "python",
   "name": "python3"
  },
  "language_info": {
   "codemirror_mode": {
    "name": "ipython",
    "version": 3
   },
   "file_extension": ".py",
   "mimetype": "text/x-python",
   "name": "python",
   "nbconvert_exporter": "python",
   "pygments_lexer": "ipython3",
   "version": "3.7.6"
  }
 },
 "nbformat": 4,
 "nbformat_minor": 4
}
