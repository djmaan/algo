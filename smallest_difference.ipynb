{
 "cells": [
  {
   "cell_type": "code",
   "execution_count": null,
   "metadata": {},
   "outputs": [],
   "source": [
    "# Smallest DIfference\n",
    "# o(nlog(n) + mlog(m)) time | o(1) space\n",
    "\n",
    "def smallestDifference(arrayOne, arrayTwo):\n",
    "    arrayOne.sort()\n",
    "    arrayTwo.sort()\n",
    "    idxOne = 0\n",
    "    idxTwo = 0\n",
    "    smallest = float(\"inf\")\n",
    "    current = float(\"inf\")\n",
    "    smallestPair = []\n",
    "    while idxOne < len(arrayOne) and idxTwo < len(arrayTwo):\n",
    "        firstNum = array[idxOne]\n",
    "        secondNum = array[idxTwo]\n",
    "        if firstNum < secondNum:\n",
    "            current = secondNum - firstNum\n",
    "            idxOne += 1\n",
    "        elif secondNum < firstNum:\n",
    "            current = firstNum - secondNum\n",
    "            idxTwo -= 1\n",
    "        else:\n",
    "            return [firstNum, secondNum]\n",
    "        if smallest > current:\n",
    "            smallest = current\n",
    "            smallestPair = [firstNum, secondNum]\n",
    "    return smallestPair\n",
    "        \n",
    "     "
   ]
  }
 ],
 "metadata": {
  "kernelspec": {
   "display_name": "Python 3",
   "language": "python",
   "name": "python3"
  },
  "language_info": {
   "codemirror_mode": {
    "name": "ipython",
    "version": 3
   },
   "file_extension": ".py",
   "mimetype": "text/x-python",
   "name": "python",
   "nbconvert_exporter": "python",
   "pygments_lexer": "ipython3",
   "version": "3.7.6"
  }
 },
 "nbformat": 4,
 "nbformat_minor": 4
}
