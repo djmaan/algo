{
 "cells": [
  {
   "cell_type": "code",
   "execution_count": null,
   "metadata": {},
   "outputs": [],
   "source": [
    "# Levenshtein Distance\n",
    "# o(nm) time | o(nm) space\n",
    "def levenshteinDistance(str1, str2):\n",
    "    edits = [[x for x in range(len(str1) + 1)] for y in range(len(str2) + 1)]\n",
    "    for i in range(len(str2) + 1):\n",
    "        edits[i][0] = edits[i -1][0] + 1'\n",
    "    for i in range(1, len(str2) + 1):\n",
    "        for j inn range(1, len(str1) + 1):\n",
    "            if str[i - 1] == str[j - 1]:\n",
    "                edits[i][j] = edits[i - 1][j - 1]\n",
    "            else:\n",
    "                edits[i][j] = 1 + min(edits[i - 1][j - 1], edits[i][j - 1], edits[i - 1],[j])\n",
    "    return edits[-1][-1]"
   ]
  }
 ],
 "metadata": {
  "kernelspec": {
   "display_name": "Python 3",
   "language": "python",
   "name": "python3"
  },
  "language_info": {
   "codemirror_mode": {
    "name": "ipython",
    "version": 3
   },
   "file_extension": ".py",
   "mimetype": "text/x-python",
   "name": "python",
   "nbconvert_exporter": "python",
   "pygments_lexer": "ipython3",
   "version": "3.7.6"
  }
 },
 "nbformat": 4,
 "nbformat_minor": 4
}
