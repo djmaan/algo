{
 "cells": [
  {
   "cell_type": "code",
   "execution_count": null,
   "metadata": {},
   "outputs": [],
   "source": [
    "# Four Number Sum\n",
    "# o(n^2) time | o(n^2) space\n",
    "def fourNumberSum(array, targetSum):\n",
    "    allPairSums = {}\n",
    "    quadruplets = []\n",
    "    for i in range(1, len(array) - 1):\n",
    "        for j in range(i + 1, len(array)):\n",
    "            currentSum = array[i] + array[j]\n",
    "            difference = targetSm - currentSum\n",
    "            if difference in allPairSums:\n",
    "                for pair in allPairSums[difference]:\n",
    "                    quadruplets.append(pair + [array[i], array[j]])\n",
    "        for k in range(0, i):\n",
    "            currentSum = array[i] + array[k]\n",
    "            if currentSum not in allPairSums:\n",
    "                allPairSums[currentSum] = [[array[k], array[i]]]\n",
    "            else:\n",
    "                allPairSums[currentSum].append([array[k], array[k]])\n",
    "    return quadruplets"
   ]
  }
 ],
 "metadata": {
  "kernelspec": {
   "display_name": "Python 3",
   "language": "python",
   "name": "python3"
  },
  "language_info": {
   "codemirror_mode": {
    "name": "ipython",
    "version": 3
   },
   "file_extension": ".py",
   "mimetype": "text/x-python",
   "name": "python",
   "nbconvert_exporter": "python",
   "pygments_lexer": "ipython3",
   "version": "3.7.6"
  }
 },
 "nbformat": 4,
 "nbformat_minor": 4
}
